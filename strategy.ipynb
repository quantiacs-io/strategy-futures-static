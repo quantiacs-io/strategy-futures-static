{
 "cells": [
  {
   "cell_type": "markdown",
   "metadata": {},
   "source": [
    "# Futures trend following with custom args"
   ]
  },
  {
   "cell_type": "code",
   "execution_count": null,
   "metadata": {},
   "outputs": [],
   "source": [
    "# Import libraries\n",
    "import xarray as xr\n",
    "import xarray.ufuncs as xruf\n",
    "import numpy as np\n",
    "import pandas as pd\n",
    "\n",
    "import qnt.output as qnout\n",
    "import qnt.ta as qnta\n",
    "import qnt.data    as qndata\n",
    "import qnt.stepper as qnstepper\n",
    "import qnt.stats   as qnstats\n",
    "import qnt.graph   as qngraph\n",
    "import datetime    as dt\n",
    "import plotly.graph_objs as go\n",
    "import xarray.ufuncs as xruf\n",
    "import time"
   ]
  },
  {
   "cell_type": "markdown",
   "metadata": {},
   "source": [
    "#### Load futures data\n",
    "Quantnet provides data for 75 global derivatives. \n",
    "The underlying assets are currencies, cross-rates, indices, bonds, energy and metals from the world's futures exchanges.\n",
    "\n",
    "Suppose we want to download the data for the last 16 years. One can use the following function:"
   ]
  },
  {
   "cell_type": "code",
   "execution_count": null,
   "metadata": {
    "scrolled": true
   },
   "outputs": [],
   "source": [
    "fut_data = qndata.futures.load_data(tail = 16*365)\n",
    "# The complete list\n",
    "fut_data.asset"
   ]
  },
  {
   "cell_type": "code",
   "execution_count": null,
   "metadata": {
    "scrolled": false
   },
   "outputs": [],
   "source": [
    "# we can see historical data on a chart\n",
    "trend_fig = [\n",
    "    go.Scatter(\n",
    "        x = fut_data.sel(asset = 'F_BP').sel(field = 'close').to_pandas().index,\n",
    "        y = fut_data.sel(asset = 'F_BP').sel(field = 'close'),\n",
    "        line = dict(width=1,color='black'))]\n",
    "\n",
    "# draw chart\n",
    "fig = go.Figure(data = trend_fig)\n",
    "fig.update_yaxes(fixedrange=False) # unlock vertical scrolling\n",
    "fig.show()"
   ]
  },
  {
   "cell_type": "markdown",
   "metadata": {},
   "source": [
    "## Weights allocation"
   ]
  },
  {
   "cell_type": "markdown",
   "metadata": {},
   "source": [
    "This function calculates positions using wma and roc as trend indicators."
   ]
  },
  {
   "cell_type": "code",
   "execution_count": null,
   "metadata": {},
   "outputs": [],
   "source": [
    "def calc_positions(futures, ma_periods, roc_periods, sideways_threshold):\n",
    "    \"\"\" Calculates positions for given data(futures) and parameters \"\"\"\n",
    "    close = futures.sel(field='close')\n",
    "    \n",
    "    # calculate MA \n",
    "    ma = qnta.lwma(close, ma_periods)\n",
    "    # calcuate ROC\n",
    "    roc = qnta.roc(ma, roc_periods)\n",
    "\n",
    "    # positive trend direction\n",
    "    positive_trend = roc > sideways_threshold\n",
    "    # negtive trend direction\n",
    "    negative_trend = roc < -sideways_threshold \n",
    "    # sideways\n",
    "    sideways_trend = abs(roc) <= sideways_threshold\n",
    "    \n",
    "    # We suppose that a sideways trend after a positive trend is also positive\n",
    "    side_positive_trend = positive_trend.where(sideways_trend == False).ffill('time').fillna(False)\n",
    "    # and a sideways trend after a negative trend is also negative\n",
    "    side_negative_trend = negative_trend.where(sideways_trend == False).ffill('time').fillna(False)\n",
    "\n",
    "    # define signals\n",
    "    buy_signal = positive_trend\n",
    "    buy_stop_signal = side_negative_trend\n",
    "\n",
    "    sell_signal = negative_trend\n",
    "    sell_stop_signal = side_positive_trend\n",
    "\n",
    "    # calc positions \n",
    "    position = close.copy(True)\n",
    "    position[:] = np.nan\n",
    "    position = xr.where(buy_signal, 1, position)\n",
    "    position = xr.where(sell_signal, -1, position)\n",
    "    position = xr.where(xruf.logical_and(buy_stop_signal, position.ffill('time') > 0), 0, position)\n",
    "    position = xr.where(xruf.logical_and(sell_stop_signal, position.ffill('time') < 0), 0, position)\n",
    "    position = position.ffill('time').fillna(0)\n",
    "\n",
    "    return position"
   ]
  },
  {
   "cell_type": "markdown",
   "metadata": {},
   "source": [
    "Select asset and adjust parameters:\n",
    "\n",
    "```python\n",
    "\n",
    "asset = 'F_NY'\n",
    "\n",
    "sdat = fut_data.sel(asset=asset).dropna('time','any')\n",
    "sout = calc_positions(sdat,200, 5, 2)\n",
    "sout = xr.concat([sout], pd.Index([asset], name='asset'))\n",
    "\n",
    "ssta = qnstats.calc_stat(fut_data, sout)\n",
    "\n",
    "display(ssta.to_pandas().tail())\n",
    "\n",
    "performance = ssta.to_pandas()[\"equity\"]\n",
    "qngraph.make_plot_filled(performance.index, performance, name=\"PnL (Equity)\", type=\"log\")\n",
    "\n",
    "```"
   ]
  },
  {
   "cell_type": "markdown",
   "metadata": {},
   "source": [
    "# This function calculate positions for multiple instruments with different parameters."
   ]
  },
  {
   "cell_type": "code",
   "execution_count": null,
   "metadata": {},
   "outputs": [],
   "source": [
    "def calc_output_all(data, params):\n",
    "    positions = data.sel(field='close').copy(True)\n",
    "    positions[:] = np.nan\n",
    "    for futures_name in params.keys(): \n",
    "        p = params[futures_name]\n",
    "        futures_data = data.sel(asset=futures_name).dropna('time','any')\n",
    "        p = calc_positions(futures_data, p['ma_periods'], p['roc_periods'], p['sideways_threshold'])\n",
    "        positions.loc[{'asset':futures_name, 'time':p.time}] = p\n",
    "    \n",
    "    return positions"
   ]
  },
  {
   "cell_type": "code",
   "execution_count": null,
   "metadata": {
    "scrolled": false
   },
   "outputs": [],
   "source": [
    "# say we select futures and their parameters for technical algorithm\n",
    "params = {\n",
    "    'F_NY': {\n",
    "        'ma_periods': 200, \n",
    "        'roc_periods': 5, \n",
    "        'sideways_threshold': 2,\n",
    "    },\n",
    "    'F_O': {\n",
    "        'ma_periods': 160, \n",
    "        'roc_periods': 10, \n",
    "        'sideways_threshold': 2,\n",
    "    },\n",
    "    'F_GX': {\n",
    "        'ma_periods': 200, \n",
    "        'roc_periods': 20, \n",
    "        'sideways_threshold': 2\n",
    "    },\n",
    "}\n",
    "\n",
    "futures_list = list(params.keys())\n",
    "\n",
    "#form the output\n",
    "output = calc_output_all(fut_data.sel(asset = futures_list), params)"
   ]
  },
  {
   "cell_type": "markdown",
   "metadata": {},
   "source": [
    "## Statistics"
   ]
  },
  {
   "cell_type": "code",
   "execution_count": null,
   "metadata": {},
   "outputs": [],
   "source": [
    "stat = qnstats.calc_stat(fut_data, output)\n",
    "stat.to_pandas().tail()"
   ]
  },
  {
   "cell_type": "code",
   "execution_count": null,
   "metadata": {},
   "outputs": [],
   "source": [
    "# show plot with profit and losses:\n",
    "performance = stat.to_pandas()[\"equity\"]\n",
    "qngraph.make_plot_filled(performance.index, performance, name=\"PnL (Equity)\", type=\"log\")"
   ]
  },
  {
   "cell_type": "markdown",
   "metadata": {},
   "source": [
    "# Check result"
   ]
  },
  {
   "cell_type": "code",
   "execution_count": null,
   "metadata": {},
   "outputs": [],
   "source": [
    "qnout.check(output, fut_data)"
   ]
  },
  {
   "cell_type": "markdown",
   "metadata": {},
   "source": [
    "# Write output"
   ]
  },
  {
   "cell_type": "code",
   "execution_count": null,
   "metadata": {},
   "outputs": [],
   "source": [
    "qnout.write(output)"
   ]
  }
 ],
 "metadata": {
  "kernelspec": {
   "display_name": "Python 3",
   "language": "python",
   "name": "python3"
  },
  "language_info": {
   "codemirror_mode": {
    "name": "ipython",
    "version": 3
   },
   "file_extension": ".py",
   "mimetype": "text/x-python",
   "name": "python",
   "nbconvert_exporter": "python",
   "pygments_lexer": "ipython3",
   "version": "3.7.9"
  }
 },
 "nbformat": 4,
 "nbformat_minor": 4
}
